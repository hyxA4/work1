{
  "cells": [
    {
      "cell_type": "code",
      "source": [
        "%cd Linear_Regression_house_price/"
      ],
      "metadata": {
        "id": "4oyJK3Hho9X4",
        "outputId": "7da3d9fe-6243-44ac-c2e1-53ed7c87d24d",
        "colab": {
          "base_uri": "https://localhost:8080/"
        }
      },
      "execution_count": 5,
      "outputs": [
        {
          "output_type": "stream",
          "name": "stdout",
          "text": [
            "/content/Linear_Regression_house_price\n"
          ]
        }
      ]
    },
    {
      "cell_type": "code",
      "source": [
        "# To support both python 2 and python 3\n",
        "# 让这份笔记同步支持 python 2 和 python 3\n",
        "from __future__ import division, print_function, unicode_literals\n",
        "\n",
        "# Common imports\n",
        "import numpy as np\n",
        "import os\n",
        "\n",
        "# to make this notebook's output stable across runs\n",
        "# 让笔记全程输入稳定\n",
        "np.random.seed(42)\n",
        "\n",
        "# To plot pretty figures\n",
        "# 导入绘图工具\n",
        "%matplotlib inline\n",
        "import matplotlib\n",
        "import matplotlib.pyplot as plt\n",
        "plt.rcParams['axes.labelsize'] = 14\n",
        "plt.rcParams['xtick.labelsize'] = 12\n",
        "plt.rcParams['ytick.labelsize'] = 12\n",
        "\n",
        "# Where to save the figures\n",
        "# 设定图片保存路径，这里写了一个函数，后面直接调用即可\n",
        "PROJECT_ROOT_DIR = os.path.abspath('.')   # 表示当前所处的文件夹的绝对路径\n",
        "CHAPTER_ID = \"Linear Regression\"\n",
        "IMAGES_PATH = os.path.join(PROJECT_ROOT_DIR, \"images\", CHAPTER_ID)\n",
        "print(IMAGES_PATH)\n",
        "\n",
        "\n",
        "def save_fig(fig_id, tight_layout=True, fig_extension=\"png\", resolution=300):\n",
        "    path = os.path.join(IMAGES_PATH, fig_id + \".\" + fig_extension)\n",
        "    print(\"Saving figure\", fig_id)\n",
        "    if tight_layout:\n",
        "        plt.tight_layout()\n",
        "    plt.savefig(path, format=fig_extension, dpi=resolution)\n",
        "\n",
        "# Ignore useless warnings (see SciPy issue #5998)\n",
        "# 忽略无用警告\n",
        "import warnings\n",
        "#warnings.filterwarnings(action=\"ignore\", message=\"^internal gelsd\")\n",
        "warnings.filterwarnings(action=\"ignore\")"
      ],
      "metadata": {
        "id": "UO98Pm_FqytJ",
        "outputId": "d98f05cf-e7b1-4f5a-94a3-fee27a5d2fd8",
        "colab": {
          "base_uri": "https://localhost:8080/"
        }
      },
      "execution_count": 7,
      "outputs": [
        {
          "output_type": "stream",
          "name": "stdout",
          "text": [
            "/content/Linear_Regression_house_price/images/Linear Regression\n"
          ]
        }
      ]
    },
    {
      "cell_type": "code",
      "source": [
        "import numpy as np\n",
        "\n",
        "X=2*np.random.rand(100,1)\n",
        "y=4+3*X+np.random.randn(100,1)\n"
      ],
      "metadata": {
        "id": "6KIqxsw26bC1"
      },
      "execution_count": 8,
      "outputs": []
    },
    {
      "cell_type": "code",
      "source": [
        "plt.plot(X, y, \"b.\")\n",
        "plt.xlabel(\"$x_1$\", fontsize=18)\n",
        "plt.ylabel(\"$y$\", rotation=0, fontsize=18)\n",
        "plt.axis([0, 2, 0, 15])\n",
        "plt.show()"
      ],
      "metadata": {
        "id": "3Aolx5V16cmr",
        "outputId": "18a31fec-d461-4ff6-9b71-afd8b419fa79",
        "colab": {
          "base_uri": "https://localhost:8080/",
          "height": 290
        }
      },
      "execution_count": 9,
      "outputs": [
        {
          "output_type": "display_data",
          "data": {
            "text/plain": [
              "<Figure size 432x288 with 1 Axes>"
            ],
            "image/png": "[encoded data removed]"
          },
          "metadata": {
            "needs_background": "light"
          }
        }
      ]
    },
    {
      "cell_type": "code",
      "source": [
        "X_b=np.c_[np.ones((100,1)),X]  # add x0 = 1 to each instance，theta0*x0\n",
        "theta_best=np.linalg.inv(X_b.T.dot(X_b)).dot(X_b.T).dot(y)"
      ],
      "metadata": {
        "id": "28ZacL1z7Giq"
      },
      "execution_count": 10,
      "outputs": []
    },
    {
      "cell_type": "code",
      "source": [
        "theta_best"
      ],
      "metadata": {
        "id": "aTwhoLPA7Nds",
        "outputId": "682cd4c7-c598-4be3-efc2-46962e35493a",
        "colab": {
          "base_uri": "https://localhost:8080/"
        }
      },
      "execution_count": 11,
      "outputs": [
        {
          "output_type": "execute_result",
          "data": {
            "text/plain": [
              "array([[4.21509616],\n",
              "       [2.77011339]])"
            ]
          },
          "metadata": {},
          "execution_count": 11
        }
      ]
    },
    {
      "cell_type": "code",
      "source": [
        "X_new=np.array([[0],[2]])\n",
        "X_new_b=np.c_[np.ones((2,1)),X_new] # add x0=1 to each instance，加偏置\n",
        "print(X_new_b)\n",
        "y_predict=X_new_b.dot(theta_best)\n",
        "y_predict"
      ],
      "metadata": {
        "id": "B9yQ5-sC7RIC",
        "outputId": "d254cd9b-19ee-435e-bbb9-33c48651f3a0",
        "colab": {
          "base_uri": "https://localhost:8080/"
        }
      },
      "execution_count": 12,
      "outputs": [
        {
          "output_type": "stream",
          "name": "stdout",
          "text": [
            "[[1. 0.]\n",
            " [1. 2.]]\n"
          ]
        },
        {
          "output_type": "execute_result",
          "data": {
            "text/plain": [
              "array([[4.21509616],\n",
              "       [9.75532293]])"
            ]
          },
          "metadata": {},
          "execution_count": 12
        }
      ]
    },
    {
      "cell_type": "code",
      "source": [
        "plt.plot(X_new,y_predict,\"r-\") #两点间连线\n",
        "plt.plot(X,y,\"b.\")\n",
        "plt.xlabel(\"$x_1$\", fontsize=18)\n",
        "plt.ylabel(\"$y$\", rotation=0, fontsize=18)\n",
        "plt.axis([0,2,0,15])\n",
        "plt.show"
      ],
      "metadata": {
        "id": "AszTaYKw7VBj",
        "outputId": "7462a2b2-1c72-44af-8b73-1a00d23e6dd1",
        "colab": {
          "base_uri": "https://localhost:8080/",
          "height": 308
        }
      },
      "execution_count": 13,
      "outputs": [
        {
          "output_type": "execute_result",
          "data": {
            "text/plain": [
              "<function matplotlib.pyplot.show>"
            ]
          },
          "metadata": {},
          "execution_count": 13
        },
        {
          "output_type": "display_data",
          "data": {
            "text/plain": [
              "<Figure size 432x288 with 1 Axes>"
            ],
            "image/png": "[encoded data removed]"
          },
          "metadata": {
            "needs_background": "light"
          }
        }
      ]
    },
    {
      "cell_type": "code",
      "source": [
        "from sklearn.linear_model import LinearRegression\n",
        "\n",
        "lin_reg = LinearRegression()\n",
        "lin_reg.fit(X, y)\n",
        "lin_reg.intercept_, lin_reg.coef_"
      ],
      "metadata": {
        "id": "DAmCzrk-7agM",
        "outputId": "34c80855-8306-4432-d1ff-f6f6b1a4ac04",
        "colab": {
          "base_uri": "https://localhost:8080/"
        }
      },
      "execution_count": 14,
      "outputs": [
        {
          "output_type": "execute_result",
          "data": {
            "text/plain": [
              "(array([4.21509616]), array([[2.77011339]]))"
            ]
          },
          "metadata": {},
          "execution_count": 14
        }
      ]
    },
    {
      "cell_type": "code",
      "source": [
        "eta=0.1 # learning rate\n",
        "n_iterations=1000\n",
        "m=100\n",
        "theta=np.random.randn(2,1) # random initialization\n",
        "\n",
        "for interation in range(n_iterations):\n",
        "    gradients=2/m*X_b.T.dot(X_b.dot(theta)-y)\n",
        "    theta = theta-eta*gradients"
      ],
      "metadata": {
        "id": "uAIkBtCd7fLF"
      },
      "execution_count": 15,
      "outputs": []
    },
    {
      "cell_type": "code",
      "source": [
        "theta"
      ],
      "metadata": {
        "id": "6HsKsqoc7ipT",
        "outputId": "484f355f-d524-40db-f294-eb273f3101c2",
        "colab": {
          "base_uri": "https://localhost:8080/"
        }
      },
      "execution_count": 16,
      "outputs": [
        {
          "output_type": "execute_result",
          "data": {
            "text/plain": [
              "array([[4.21509616],\n",
              "       [2.77011339]])"
            ]
          },
          "metadata": {},
          "execution_count": 16
        }
      ]
    },
    {
      "cell_type": "code",
      "source": [
        "X_new_b.dot(theta)"
      ],
      "metadata": {
        "id": "TnzcAxG77lzI",
        "outputId": "0eca9ee7-e096-4e65-c645-b462a39b88b9",
        "colab": {
          "base_uri": "https://localhost:8080/"
        }
      },
      "execution_count": 17,
      "outputs": [
        {
          "output_type": "execute_result",
          "data": {
            "text/plain": [
              "array([[4.21509616],\n",
              "       [9.75532293]])"
            ]
          },
          "metadata": {},
          "execution_count": 17
        }
      ]
    },
    {
      "cell_type": "code",
      "source": [
        "theta_path_bgd = []    #保存学习率为0.1的path，后续使用\n",
        "\n",
        "def plot_gradient_descent(theta, eta, theta_path=None):\n",
        "    m = len(X_b)\n",
        "    plt.plot(X, y, \"b.\")\n",
        "    n_iterations = 1000    #iteration表示迭代循环次数\n",
        "    for iteration in range(n_iterations):\n",
        "        if iteration < 10:\n",
        "            y_predict = X_new_b.dot(theta)\n",
        "            style = \"b-\" if iteration > 0 else \"r--\"\n",
        "            plt.plot(X_new, y_predict, style)\n",
        "        gradients = 2/m * X_b.T.dot(X_b.dot(theta) - y)\n",
        "        theta = theta - eta * gradients\n",
        "        if theta_path is not None:\n",
        "            theta_path.append(theta)\n",
        "    plt.xlabel(\"$x_1$\", fontsize=18)\n",
        "    plt.axis([0, 2, 0, 15])\n",
        "    plt.title(r\"$\\eta = {}$\".format(eta), fontsize=16)"
      ],
      "metadata": {
        "id": "0Ijnf6Oo7p39"
      },
      "execution_count": 18,
      "outputs": []
    },
    {
      "cell_type": "code",
      "source": [
        "np.random.seed(42)\n",
        "theta = np.random.randn(2,1)  # random initialization"
      ],
      "metadata": {
        "id": "jOcnSELw7s-Z"
      },
      "execution_count": 19,
      "outputs": []
    },
    {
      "cell_type": "code",
      "source": [
        "plt.figure(figsize=(10,4))\n",
        "plt.subplot(131); plot_gradient_descent(theta, eta=0.02)\n",
        "\n",
        "plt.ylabel(\"$y$\", rotation=0, fontsize=18)\n",
        "plt.subplot(132); plot_gradient_descent(theta, eta=0.1, theta_path=theta_path_bgd)\n",
        "\n",
        "plt.subplot(133); plot_gradient_descent(theta, eta=0.5)\n",
        "\n",
        "save_fig(\"gradient_descent_plot\")\n",
        "plt.show()"
      ],
      "metadata": {
        "id": "jYVRKQ937vRi",
        "outputId": "51adbfe4-b6bb-456e-cf88-809aab633255",
        "colab": {
          "base_uri": "https://localhost:8080/",
          "height": 315
        }
      },
      "execution_count": 20,
      "outputs": [
        {
          "output_type": "stream",
          "name": "stdout",
          "text": [
            "Saving figure gradient_descent_plot\n"
          ]
        },
        {
          "output_type": "display_data",
          "data": {
            "text/plain": [
              "<Figure size 720x288 with 3 Axes>"
            ],
            "image/png": "[encoded data removed]"
          },
          "metadata": {
            "needs_background": "light"
          }
        }
      ]
    },
    {
      "cell_type": "code",
      "source": [
        "theta_path_sgd = []\n",
        "m = len(X_b)\n",
        "print(m)\n",
        "np.random.seed(42)"
      ],
      "metadata": {
        "id": "ldB5oHWr71K1",
        "outputId": "318a0919-f326-4837-900f-17ed2d492f77",
        "colab": {
          "base_uri": "https://localhost:8080/"
        }
      },
      "execution_count": 21,
      "outputs": [
        {
          "output_type": "stream",
          "name": "stdout",
          "text": [
            "100\n"
          ]
        }
      ]
    },
    {
      "cell_type": "code",
      "source": [
        "n_epochs=50    #epoch表示迭代循环次数\n",
        "t0,t1=5,50 # learning schedule hyperparameters\n",
        "\n",
        "def learning_schedule(t):\n",
        "    return t0/(t+t1)\n",
        "\n",
        "theta=np.random.randn(2,1)# randominitialization\n",
        "\n",
        "for epoch in range(n_epochs):\n",
        "    for i in range(m):\n",
        "        if epoch == 0 and i < 20:               # not shown in the book\n",
        "            y_predict = X_new_b.dot(theta)      # not shown\n",
        "            style = \"b-\" if i > 0 else \"r--\"    # not shown\n",
        "            plt.plot(X_new, y_predict, style)   # not shown\n",
        "        random_index=np.random.randint(m)\n",
        "        xi=X_b[random_index:random_index+1]\n",
        "        yi=y[random_index:random_index+1]\n",
        "        gradients=2*xi.T.dot(xi.dot(theta)-yi)\n",
        "        eta=learning_schedule(epoch*m+i)\n",
        "        theta=theta-eta*gradients\n",
        "        theta_path_sgd.append(theta)                 # not shown\n",
        "        \n",
        "plt.plot(X, y, \"b.\")                                 # not shown\n",
        "plt.xlabel(\"$x_1$\", fontsize=18)                     # not shown\n",
        "plt.ylabel(\"$y$\", rotation=0, fontsize=18)           # not shown\n",
        "plt.axis([0, 2, 0, 15])                              # not shown\n",
        "save_fig(\"sgd_plot\")                                 # not shown\n",
        "plt.show()                                           # not shown"
      ],
      "metadata": {
        "id": "DqAUiD4V74RL",
        "outputId": "0fece3fc-6653-470a-faa1-55130684fd43",
        "colab": {
          "base_uri": "https://localhost:8080/",
          "height": 315
        }
      },
      "execution_count": 22,
      "outputs": [
        {
          "output_type": "stream",
          "name": "stdout",
          "text": [
            "Saving figure sgd_plot\n"
          ]
        },
        {
          "output_type": "display_data",
          "data": {
            "text/plain": [
              "<Figure size 432x288 with 1 Axes>"
            ],
            "image/png": "[encoded data removed]"
          },
          "metadata": {
            "needs_background": "light"
          }
        }
      ]
    },
    {
      "cell_type": "code",
      "source": [
        "theta"
      ],
      "metadata": {
        "id": "cZMlWYOn772I",
        "outputId": "e9426d8f-7930-4413-b2b3-13731cd65093",
        "colab": {
          "base_uri": "https://localhost:8080/"
        }
      },
      "execution_count": 23,
      "outputs": [
        {
          "output_type": "execute_result",
          "data": {
            "text/plain": [
              "array([[4.21076011],\n",
              "       [2.74856079]])"
            ]
          },
          "metadata": {},
          "execution_count": 23
        }
      ]
    },
    {
      "cell_type": "code",
      "source": [
        "from sklearn.linear_model import SGDRegressor\n",
        "\n",
        "sgd_reg=SGDRegressor(max_iter=50,penalty=None,eta0=0.1)\n",
        "sgd_reg.fit(X,y.ravel())"
      ],
      "metadata": {
        "id": "kkqVf1_K8Bu5",
        "outputId": "c3e9c23d-71cb-45d6-a91a-c23ef884f71c",
        "colab": {
          "base_uri": "https://localhost:8080/"
        }
      },
      "execution_count": 24,
      "outputs": [
        {
          "output_type": "execute_result",
          "data": {
            "text/plain": [
              "SGDRegressor(eta0=0.1, max_iter=50, penalty=None)"
            ]
          },
          "metadata": {},
          "execution_count": 24
        }
      ]
    },
    {
      "cell_type": "code",
      "source": [
        "sgd_reg.intercept_,sgd_reg.coef_"
      ],
      "metadata": {
        "id": "vv8mhU3N8Fhc",
        "outputId": "7f800139-f641-4104-8a02-085409e3f713",
        "colab": {
          "base_uri": "https://localhost:8080/"
        }
      },
      "execution_count": 25,
      "outputs": [
        {
          "output_type": "execute_result",
          "data": {
            "text/plain": [
              "(array([4.23868557]), array([2.82181634]))"
            ]
          },
          "metadata": {},
          "execution_count": 25
        }
      ]
    },
    {
      "cell_type": "code",
      "source": [
        "theta_path_mgd = []\n",
        "\n",
        "n_iterations = 50\n",
        "minibatch_size = 20\n",
        "\n",
        "np.random.seed(42)\n",
        "theta = np.random.randn(2,1)  # random initialization\n",
        "\n",
        "t0, t1 = 200, 1000\n",
        "def learning_schedule(t):\n",
        "    return t0 / (t + t1)\n",
        "\n",
        "t = 0\n",
        "for epoch in range(n_iterations):\n",
        "    shuffled_indices = np.random.permutation(m)\n",
        "    X_b_shuffled = X_b[shuffled_indices]\n",
        "    y_shuffled = y[shuffled_indices]\n",
        "    for i in range(0, m, minibatch_size):\n",
        "        t += 1\n",
        "        xi = X_b_shuffled[i:i+minibatch_size]\n",
        "        yi = y_shuffled[i:i+minibatch_size]\n",
        "        gradients = 2/minibatch_size * xi.T.dot(xi.dot(theta) - yi)\n",
        "        eta = learning_schedule(t)\n",
        "        theta = theta - eta * gradients\n",
        "        theta_path_mgd.append(theta)"
      ],
      "metadata": {
        "id": "NgwdNzA98Itq"
      },
      "execution_count": 26,
      "outputs": []
    },
    {
      "cell_type": "code",
      "source": [
        "theta"
      ],
      "metadata": {
        "id": "224oEAnm8LTH",
        "outputId": "fd8f9439-9c5c-4ba5-be95-10d68bfb5315",
        "colab": {
          "base_uri": "https://localhost:8080/"
        }
      },
      "execution_count": 27,
      "outputs": [
        {
          "output_type": "execute_result",
          "data": {
            "text/plain": [
              "array([[4.25214635],\n",
              "       [2.7896408 ]])"
            ]
          },
          "metadata": {},
          "execution_count": 27
        }
      ]
    },
    {
      "cell_type": "code",
      "source": [
        "theta_path_bgd = np.array(theta_path_bgd)\n",
        "theta_path_sgd = np.array(theta_path_sgd)\n",
        "theta_path_mgd = np.array(theta_path_mgd)"
      ],
      "metadata": {
        "id": "aPZKjP0t8NuK"
      },
      "execution_count": 28,
      "outputs": []
    },
    {
      "cell_type": "code",
      "source": [
        "plt.figure(figsize=(7,4))\n",
        "plt.plot(theta_path_sgd[:, 0], theta_path_sgd[:, 1], \"r-s\", linewidth=1, label=\"Stochastic\")\n",
        "plt.plot(theta_path_mgd[:, 0], theta_path_mgd[:, 1], \"g-+\", linewidth=2, label=\"Mini-batch\")\n",
        "plt.plot(theta_path_bgd[:, 0], theta_path_bgd[:, 1], \"b-o\", linewidth=3, label=\"Batch\")\n",
        "plt.legend(loc=\"upper left\", fontsize=16)\n",
        "plt.xlabel(r\"$\\theta_0$\", fontsize=20)\n",
        "plt.ylabel(r\"$\\theta_1$   \", fontsize=20, rotation=0)\n",
        "plt.axis([2.5, 4.5, 2.3, 3.9])\n",
        "save_fig(\"gradient_descent_paths_plot\")\n",
        "plt.show()"
      ],
      "metadata": {
        "id": "DsybqTs-8QJy",
        "outputId": "f7d9f120-d555-4282-fae4-2fa510562a67",
        "colab": {
          "base_uri": "https://localhost:8080/",
          "height": 315
        }
      },
      "execution_count": 29,
      "outputs": [
        {
          "output_type": "stream",
          "name": "stdout",
          "text": [
            "Saving figure gradient_descent_paths_plot\n"
          ]
        },
        {
          "output_type": "display_data",
          "data": {
            "text/plain": [
              "<Figure size 504x288 with 1 Axes>"
            ],
            "image/png": "[encoded data removed]"
          },
          "metadata": {
            "needs_background": "light"
          }
        }
      ]
    },
    {
      "cell_type": "markdown",
      "source": [
        "## 房价预测"
      ],
      "metadata": {
        "id": "vkv7H0ea8Wdm"
      }
    },
    {
      "cell_type": "code",
      "source": [
        "from sklearn.datasets import load_boston\n",
        "\n",
        "# 波士顿房价数据集已经内置在sklearn中\n",
        "boston_house = load_boston()\n",
        "\n",
        "boston_feature_name = boston_house.feature_names#数据集中特征的名称\n",
        "boston_features = boston_house.data#数据集中的特征数据\n",
        "boston_target = boston_house.target#数据集中的目标值（标签值）\n",
        "\n",
        "boston_feature_name"
      ],
      "metadata": {
        "id": "UsYK8H6j8Xoa",
        "outputId": "7a1380ed-97c0-4c86-e623-d940676a7b06",
        "colab": {
          "base_uri": "https://localhost:8080/"
        }
      },
      "execution_count": 30,
      "outputs": [
        {
          "output_type": "execute_result",
          "data": {
            "text/plain": [
              "array(['CRIM', 'ZN', 'INDUS', 'CHAS', 'NOX', 'RM', 'AGE', 'DIS', 'RAD',\n",
              "       'TAX', 'PTRATIO', 'B', 'LSTAT'], dtype='<U7')"
            ]
          },
          "metadata": {},
          "execution_count": 30
        }
      ]
    },
    {
      "cell_type": "code",
      "source": [
        "# 来看一下对数据集的描述\n",
        "print(boston_house.DESCR)\n",
        "'''\n",
        "有506条数据\n",
        "13个预测变量\n",
        "1个结果变量\n",
        "'''"
      ],
      "metadata": {
        "id": "I89ZTJLb8cAZ",
        "outputId": "c173de53-c47c-4d0e-8619-a76eca438dfe",
        "colab": {
          "base_uri": "https://localhost:8080/",
          "height": 973
        }
      },
      "execution_count": 31,
      "outputs": [
        {
          "output_type": "stream",
          "name": "stdout",
          "text": [
            ".. _boston_dataset:\n",
            "\n",
            "Boston house prices dataset\n",
            "---------------------------\n",
            "\n",
            "**Data Set Characteristics:**  \n",
            "\n",
            "    :Number of Instances: 506 \n",
            "\n",
            "    :Number of Attributes: 13 numeric/categorical predictive. Median Value (attribute 14) is usually the target.\n",
            "\n",
            "    :Attribute Information (in order):\n",
            "        - CRIM     per capita crime rate by town\n",
            "        - ZN       proportion of residential land zoned for lots over 25,000 sq.ft.\n",
            "        - INDUS    proportion of non-retail business acres per town\n",
            "        - CHAS     Charles River dummy variable (= 1 if tract bounds river; 0 otherwise)\n",
            "        - NOX      nitric oxides concentration (parts per 10 million)\n",
            "        - RM       average number of rooms per dwelling\n",
            "        - AGE      proportion of owner-occupied units built prior to 1940\n",
            "        - DIS      weighted distances to five Boston employment centres\n",
            "        - RAD      index of accessibility to radial highways\n",
            "        - TAX      full-value property-tax rate per $10,000\n",
            "        - PTRATIO  pupil-teacher ratio by town\n",
            "        - B        1000(Bk - 0.63)^2 where Bk is the proportion of black people by town\n",
            "        - LSTAT    % lower status of the population\n",
            "        - MEDV     Median value of owner-occupied homes in $1000's\n",
            "\n",
            "    :Missing Attribute Values: None\n",
            "\n",
            "    :Creator: Harrison, D. and Rubinfeld, D.L.\n",
            "\n",
            "This is a copy of UCI ML housing dataset.\n",
            "https://archive.ics.uci.edu/ml/machine-learning-databases/housing/\n",
            "\n",
            "\n",
            "This dataset was taken from the StatLib library which is maintained at Carnegie Mellon University.\n",
            "\n",
            "The Boston house-price data of Harrison, D. and Rubinfeld, D.L. 'Hedonic\n",
            "prices and the demand for clean air', J. Environ. Economics & Management,\n",
            "vol.5, 81-102, 1978.   Used in Belsley, Kuh & Welsch, 'Regression diagnostics\n",
            "...', Wiley, 1980.   N.B. Various transformations are used in the table on\n",
            "pages 244-261 of the latter.\n",
            "\n",
            "The Boston house-price data has been used in many machine learning papers that address regression\n",
            "problems.   \n",
            "     \n",
            ".. topic:: References\n",
            "\n",
            "   - Belsley, Kuh & Welsch, 'Regression diagnostics: Identifying Influential Data and Sources of Collinearity', Wiley, 1980. 244-261.\n",
            "   - Quinlan,R. (1993). Combining Instance-Based and Model-Based Learning. In Proceedings on the Tenth International Conference of Machine Learning, 236-243, University of Massachusetts, Amherst. Morgan Kaufmann.\n",
            "\n"
          ]
        },
        {
          "output_type": "execute_result",
          "data": {
            "text/plain": [
              "'\\n有506条数据\\n13个预测变量\\n1个结果变量\\n'"
            ],
            "application/vnd.google.colaboratory.intrinsic+json": {
              "type": "string"
            }
          },
          "metadata": {},
          "execution_count": 31
        }
      ]
    },
    {
      "cell_type": "code",
      "source": [
        "boston_features[:2,:]#查看一下前两个特征的值"
      ],
      "metadata": {
        "id": "ENjDVYOO8hcm",
        "outputId": "4949304b-8d35-49a2-da0f-a14c6f97a25e",
        "colab": {
          "base_uri": "https://localhost:8080/"
        }
      },
      "execution_count": 32,
      "outputs": [
        {
          "output_type": "execute_result",
          "data": {
            "text/plain": [
              "array([[6.3200e-03, 1.8000e+01, 2.3100e+00, 0.0000e+00, 5.3800e-01,\n",
              "        6.5750e+00, 6.5200e+01, 4.0900e+00, 1.0000e+00, 2.9600e+02,\n",
              "        1.5300e+01, 3.9690e+02, 4.9800e+00],\n",
              "       [2.7310e-02, 0.0000e+00, 7.0700e+00, 0.0000e+00, 4.6900e-01,\n",
              "        6.4210e+00, 7.8900e+01, 4.9671e+00, 2.0000e+00, 2.4200e+02,\n",
              "        1.7800e+01, 3.9690e+02, 9.1400e+00]])"
            ]
          },
          "metadata": {},
          "execution_count": 32
        }
      ]
    },
    {
      "cell_type": "code",
      "source": [
        "boston_target[:10]#看一下目标值的样子"
      ],
      "metadata": {
        "id": "jJPBbRuA8lp-",
        "outputId": "a1499f52-f83e-496a-d9d5-f0fc654f764e",
        "colab": {
          "base_uri": "https://localhost:8080/"
        }
      },
      "execution_count": 33,
      "outputs": [
        {
          "output_type": "execute_result",
          "data": {
            "text/plain": [
              "array([24. , 21.6, 34.7, 33.4, 36.2, 28.7, 22.9, 27.1, 16.5, 18.9])"
            ]
          },
          "metadata": {},
          "execution_count": 33
        }
      ]
    },
    {
      "cell_type": "code",
      "source": [
        "# 进行训练集测试集切分\n",
        "from sklearn.model_selection import  train_test_split\n",
        "# 测试集的占比为30%，random_state= 0表示每次切分时，会得到一致的切分。\n",
        "X_train,X_test,y_train,y_test = train_test_split(boston_features,boston_target,test_size = 0.3,random_state = 0)"
      ],
      "metadata": {
        "id": "EfPIjL9L8oBT"
      },
      "execution_count": 34,
      "outputs": []
    },
    {
      "cell_type": "code",
      "source": [
        "#训练数据和测试数据标准化处理\n",
        "from sklearn.preprocessing import StandardScaler\n",
        "#分别初始化对特征值和目标值的标准化器\n",
        "ss_X = StandardScaler()\n",
        "ss_y = StandardScaler()\n",
        "#训练数据都是数值型，所以要标准化处理\n",
        "X_train = ss_X.fit_transform(X_train)\n",
        "X_test = ss_X.transform(X_test)\n",
        "#目标数据（房价预测值）也是数值型，所以也要标准化处理\n",
        "#说明一下：fit_transform与transform都要求操作2D数据，而此时的y_train与y_test都是1D的，因此需要调用reshape(-1,1)，例如：[1,2,3]变成[[1],[2],[3]]\n",
        "y_train = ss_y.fit_transform(y_train.reshape(-1,1))\n",
        "y_test = ss_y.transform(y_test.reshape(-1,1))"
      ],
      "metadata": {
        "id": "nKUX9HDk8qSe"
      },
      "execution_count": 35,
      "outputs": []
    },
    {
      "cell_type": "markdown",
      "source": [
        "#### 线性回归——正规方程"
      ],
      "metadata": {
        "id": "1Z_sSk92-DVL"
      }
    },
    {
      "cell_type": "code",
      "source": [
        "from sklearn.linear_model import LinearRegression\n",
        "\n",
        "lin_reg = LinearRegression()\n",
        "lin_reg.fit(X_train, y_train)"
      ],
      "metadata": {
        "id": "Ew2lx5Gn8tQW",
        "outputId": "32ccdf2e-0cbc-4bd9-b961-935fb15f7148",
        "colab": {
          "base_uri": "https://localhost:8080/"
        }
      },
      "execution_count": 36,
      "outputs": [
        {
          "output_type": "execute_result",
          "data": {
            "text/plain": [
              "LinearRegression()"
            ]
          },
          "metadata": {},
          "execution_count": 36
        }
      ]
    },
    {
      "cell_type": "code",
      "source": [
        "# 利用测试数据进行预测\n",
        "y_pred = lin_reg.predict(X_test)"
      ],
      "metadata": {
        "id": "qcyCtQDF8vyh"
      },
      "execution_count": 37,
      "outputs": []
    },
    {
      "cell_type": "code",
      "source": [
        "from sklearn.metrics import mean_squared_error"
      ],
      "metadata": {
        "id": "bOZy-vS_8yEq"
      },
      "execution_count": 38,
      "outputs": []
    },
    {
      "cell_type": "code",
      "source": [
        "error = np.sqrt(mean_squared_error(y_test,y_pred))\n",
        "error"
      ],
      "metadata": {
        "id": "Q6tfYUaN80UC",
        "outputId": "6cd3dd21-92d8-49b4-f456-f2cf14547a9f",
        "colab": {
          "base_uri": "https://localhost:8080/"
        }
      },
      "execution_count": 39,
      "outputs": [
        {
          "output_type": "execute_result",
          "data": {
            "text/plain": [
              "0.5664286424765868"
            ]
          },
          "metadata": {},
          "execution_count": 39
        }
      ]
    },
    {
      "cell_type": "markdown",
      "source": [
        "#### 线性回归——随机梯度下降"
      ],
      "metadata": {
        "id": "LPes8Xik84Uv"
      }
    },
    {
      "cell_type": "code",
      "source": [
        "from sklearn.linear_model import SGDRegressor\n",
        "#得到一致的结果\n",
        "np.random.seed(42)\n",
        "sgdr = SGDRegressor()\n",
        "sgdr.fit(X_train,y_train)"
      ],
      "metadata": {
        "id": "FiCi6Rlc85TK",
        "outputId": "a6eb14a2-8200-46bf-cc09-17ebf5c98932",
        "colab": {
          "base_uri": "https://localhost:8080/"
        }
      },
      "execution_count": 40,
      "outputs": [
        {
          "output_type": "execute_result",
          "data": {
            "text/plain": [
              "SGDRegressor()"
            ]
          },
          "metadata": {},
          "execution_count": 40
        }
      ]
    },
    {
      "cell_type": "code",
      "source": [
        "# 利用测试数据进行预测\n",
        "y_pred = sgdr.predict(X_test)"
      ],
      "metadata": {
        "id": "Jp4g4WDH8-6-"
      },
      "execution_count": 41,
      "outputs": []
    },
    {
      "cell_type": "code",
      "source": [
        "error = np.sqrt(mean_squared_error(y_test,y_pred))\n",
        "error"
      ],
      "metadata": {
        "id": "IQSfzbWa9BWG",
        "outputId": "c47da7dd-e0e4-4f70-a0b0-05be97005253",
        "colab": {
          "base_uri": "https://localhost:8080/"
        }
      },
      "execution_count": 42,
      "outputs": [
        {
          "output_type": "execute_result",
          "data": {
            "text/plain": [
              "0.5820710178853562"
            ]
          },
          "metadata": {},
          "execution_count": 42
        }
      ]
    },
    {
      "cell_type": "markdown",
      "source": [
        "#### 线性回归——批量随机梯度下降"
      ],
      "metadata": {
        "id": "Hw0La9g39FCX"
      }
    },
    {
      "cell_type": "code",
      "source": [
        ""
      ],
      "metadata": {
        "id": "gAIs2o019MXH"
      },
      "execution_count": null,
      "outputs": []
    },
    {
      "cell_type": "markdown",
      "source": [
        "### 加利福尼亚州房价预测 //作业？"
      ],
      "metadata": {
        "id": "i2908nIR9N6i"
      }
    },
    {
      "cell_type": "code",
      "source": [
        "DATASETS_PATH = os.path.join(PROJECT_ROOT_DIR, \"datasets\")\n",
        "print(DATASETS_PATH)"
      ],
      "metadata": {
        "id": "1KwqMwQj9NDN",
        "outputId": "74657f42-ce72-47c4-abcb-cefc484ba2ab",
        "colab": {
          "base_uri": "https://localhost:8080/"
        }
      },
      "execution_count": 76,
      "outputs": [
        {
          "output_type": "stream",
          "name": "stdout",
          "text": [
            "/content/Linear_Regression_house_price/datasets\n"
          ]
        }
      ]
    },
    {
      "cell_type": "code",
      "source": [
        "from sklearn.datasets import fetch_california_housing\n",
        "from sklearn.model_selection import train_test_split\n",
        "from sklearn.preprocessing import StandardScaler\n",
        "\n",
        "\n",
        "#housing = fetch_california_housing()\n",
        "housing = fetch_california_housing(data_home=DATASETS_PATH,download_if_missing=False)\n",
        "\n",
        "\n",
        "#X_train_full, X_test, y_train_full, y_test = train_test_split(housing.data, housing.target, random_state=42)\n",
        "#X_train, X_valid, y_train, y_valid = train_test_split(X_train_full, y_train_full, random_state=42)\n",
        "\n",
        "# 进行训练集测试集切分\n",
        "# 测试集的占比为30%，random_state= 0表示每次切分时，会得到一致的切分。\n",
        "X_train,X_test,y_train,y_test = train_test_split(housing.data,housing.target,test_size = 0.3,random_state = 0)\n",
        "\n",
        "#scaler = StandardScaler()\n",
        "#X_train = scaler.fit_transform(X_train)\n",
        "#X_valid = scaler.transform(X_valid)\n",
        "#X_test = scaler.transform(X_test)"
      ],
      "metadata": {
        "id": "8Dq-rZyX9XFt"
      },
      "execution_count": 77,
      "outputs": []
    },
    {
      "cell_type": "code",
      "source": [
        "#训练数据和测试数据标准化处理\n",
        "#分别初始化对特征值和目标值的标准化器\n",
        "ss_X = StandardScaler()\n",
        "ss_y = StandardScaler()\n",
        "#训练数据都是数值型，所以要标准化处理\n",
        "X_train = ss_X.fit_transform(X_train)\n",
        "X_test = ss_X.transform(X_test)\n",
        "#目标数据（房价预测值）也是数值型，所以也要标准化处理\n",
        "#说明一下：fit_transform与transform都要求操作2D数据，而此时的y_train与y_test都是1D的，因此需要调用reshape(-1,1)，例如：[1,2,3]变成[[1],[2],[3]]\n",
        "y_train = ss_y.fit_transform(y_train.reshape(-1,1))\n",
        "y_test = ss_y.transform(y_test.reshape(-1,1))"
      ],
      "metadata": {
        "id": "4SrBhRPM9aLG"
      },
      "execution_count": 78,
      "outputs": []
    },
    {
      "cell_type": "code",
      "source": [
        "print(housing.DESCR)"
      ],
      "metadata": {
        "id": "Mad7Uay19bPS",
        "outputId": "475f3143-471b-4ff0-da86-d5871b4ec475",
        "colab": {
          "base_uri": "https://localhost:8080/"
        }
      },
      "execution_count": 56,
      "outputs": [
        {
          "output_type": "stream",
          "name": "stdout",
          "text": [
            ".. _california_housing_dataset:\n",
            "\n",
            "California Housing dataset\n",
            "--------------------------\n",
            "\n",
            "**Data Set Characteristics:**\n",
            "\n",
            "    :Number of Instances: 20640\n",
            "\n",
            "    :Number of Attributes: 8 numeric, predictive attributes and the target\n",
            "\n",
            "    :Attribute Information:\n",
            "        - MedInc        median income in block group\n",
            "        - HouseAge      median house age in block group\n",
            "        - AveRooms      average number of rooms per household\n",
            "        - AveBedrms     average number of bedrooms per household\n",
            "        - Population    block group population\n",
            "        - AveOccup      average number of household members\n",
            "        - Latitude      block group latitude\n",
            "        - Longitude     block group longitude\n",
            "\n",
            "    :Missing Attribute Values: None\n",
            "\n",
            "This dataset was obtained from the StatLib repository.\n",
            "https://www.dcc.fc.up.pt/~ltorgo/Regression/cal_housing.html\n",
            "\n",
            "The target variable is the median house value for California districts,\n",
            "expressed in hundreds of thousands of dollars ($100,000).\n",
            "\n",
            "This dataset was derived from the 1990 U.S. census, using one row per census\n",
            "block group. A block group is the smallest geographical unit for which the U.S.\n",
            "Census Bureau publishes sample data (a block group typically has a population\n",
            "of 600 to 3,000 people).\n",
            "\n",
            "An household is a group of people residing within a home. Since the average\n",
            "number of rooms and bedrooms in this dataset are provided per household, these\n",
            "columns may take surpinsingly large values for block groups with few households\n",
            "and many empty houses, such as vacation resorts.\n",
            "\n",
            "It can be downloaded/loaded using the\n",
            ":func:`sklearn.datasets.fetch_california_housing` function.\n",
            "\n",
            ".. topic:: References\n",
            "\n",
            "    - Pace, R. Kelley and Ronald Barry, Sparse Spatial Autoregressions,\n",
            "      Statistics and Probability Letters, 33 (1997) 291-297\n",
            "\n"
          ]
        }
      ]
    },
    {
      "cell_type": "code",
      "source": [
        "X_train.shape"
      ],
      "metadata": {
        "id": "6cUulzlV9gDE",
        "outputId": "bc5ba6a6-73b4-4917-d2cc-a20cebeb2578",
        "colab": {
          "base_uri": "https://localhost:8080/"
        }
      },
      "execution_count": 57,
      "outputs": [
        {
          "output_type": "execute_result",
          "data": {
            "text/plain": [
              "(14448, 8)"
            ]
          },
          "metadata": {},
          "execution_count": 57
        }
      ]
    },
    {
      "cell_type": "markdown",
      "source": [
        "#### 线性回归——正规方程"
      ],
      "metadata": {
        "id": "KyuckFRt9ilJ"
      }
    },
    {
      "cell_type": "code",
      "source": [
        "from sklearn.linear_model import LinearRegression\n",
        "\n",
        "lin_reg = LinearRegression()\n",
        "lin_reg.fit(X_train, y_train)"
      ],
      "metadata": {
        "id": "1hFkrhl59jQl",
        "outputId": "193968aa-698e-41c1-ef61-c983ad1b3c07",
        "colab": {
          "base_uri": "https://localhost:8080/"
        }
      },
      "execution_count": 69,
      "outputs": [
        {
          "output_type": "execute_result",
          "data": {
            "text/plain": [
              "LinearRegression()"
            ]
          },
          "metadata": {},
          "execution_count": 69
        }
      ]
    },
    {
      "cell_type": "code",
      "source": [
        "from sklearn.metrics import mean_squared_error\n",
        "\n",
        "housing_predictions = lin_reg.predict(X_test)\n",
        "lin_mse = mean_squared_error(y_test, housing_predictions)\n",
        "lin_rmse = np.sqrt(lin_mse)\n",
        "lin_rmse"
      ],
      "metadata": {
        "id": "nEDc-snE9n8o",
        "outputId": "fe81a54f-919f-4f72-db20-eca78b40951f",
        "colab": {
          "base_uri": "https://localhost:8080/"
        }
      },
      "execution_count": 70,
      "outputs": [
        {
          "output_type": "execute_result",
          "data": {
            "text/plain": [
              "0.638849627697872"
            ]
          },
          "metadata": {},
          "execution_count": 70
        }
      ]
    },
    {
      "cell_type": "markdown",
      "source": [
        "#### 线性回归——随机梯度下降"
      ],
      "metadata": {
        "id": "WokZKxta9s2W"
      }
    },
    {
      "cell_type": "code",
      "source": [
        "from sklearn.linear_model import SGDRegressor\n",
        "#得到一致的结果\n",
        "np.random.seed(49)\n",
        "sgdr = SGDRegressor(eta0=0.001)\n",
        "sgdr.fit(X_train,y_train)"
      ],
      "metadata": {
        "id": "KO5Pg5Gv9sdd",
        "outputId": "0163967d-c7a2-4de4-eef1-cc4c60d7e1f3",
        "colab": {
          "base_uri": "https://localhost:8080/"
        }
      },
      "execution_count": 89,
      "outputs": [
        {
          "output_type": "execute_result",
          "data": {
            "text/plain": [
              "SGDRegressor(eta0=0.001)"
            ]
          },
          "metadata": {},
          "execution_count": 89
        }
      ]
    },
    {
      "cell_type": "code",
      "source": [
        "# 利用测试数据进行预测\n",
        "y_pred = sgdr.predict(X_test)"
      ],
      "metadata": {
        "id": "h5mkIP-Y9x_U"
      },
      "execution_count": 90,
      "outputs": []
    },
    {
      "cell_type": "code",
      "source": [
        "housing_predictions = sgdr.predict(X_test)\n",
        "sgdr_mse = mean_squared_error(y_test, housing_predictions)\n",
        "sgdr_rmse = np.sqrt(sgdr_mse)\n",
        "sgdr_rmse"
      ],
      "metadata": {
        "id": "WE4uxvp_9z0C",
        "outputId": "299221ef-22a0-4046-8089-1cf1b9541820",
        "colab": {
          "base_uri": "https://localhost:8080/"
        }
      },
      "execution_count": 91,
      "outputs": [
        {
          "output_type": "execute_result",
          "data": {
            "text/plain": [
              "0.6484728348309642"
            ]
          },
          "metadata": {},
          "execution_count": 91
        }
      ]
    },
    {
      "cell_type": "markdown",
      "source": [
        "#### 线性回归——批量随机梯度下降"
      ],
      "metadata": {
        "id": "6GizK7Bw-mS1"
      }
    },
    {
      "cell_type": "code",
      "source": [
        ""
      ],
      "metadata": {
        "id": "rihKT7u-AZW-"
      },
      "execution_count": null,
      "outputs": []
    }
  ],
  "metadata": {
    "colab": {
      "collapsed_sections": [],
      "name": "充分利用您的 Colab 订阅",
      "provenance": []
    },
    "kernelspec": {
      "display_name": "Python 3",
      "name": "python3"
    }
  },
  "nbformat": 4,
  "nbformat_minor": 0
}